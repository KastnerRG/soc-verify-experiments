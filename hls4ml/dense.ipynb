{
 "cells": [
  {
   "cell_type": "code",
   "execution_count": null,
   "metadata": {},
   "outputs": [],
   "source": [
    "import hls_utils\n",
    "import importlib\n",
    "importlib.reload(hls_utils)"
   ]
  },
  {
   "cell_type": "code",
   "execution_count": null,
   "metadata": {},
   "outputs": [],
   "source": [
    "n_in, n_out = 8, 8\n",
    "batch = 4\n",
    "bits, int_bits = 16, 2"
   ]
  },
  {
   "cell_type": "code",
   "execution_count": null,
   "metadata": {},
   "outputs": [],
   "source": [
    "hls_utils.HLS_run_single_layer(n_in, n_out, bits, int_bits, reuse_factor=1)"
   ]
  },
  {
   "cell_type": "code",
   "execution_count": null,
   "metadata": {},
   "outputs": [],
   "source": [
    "hls_utils.SIM_run_single_layer(batch, n_in, n_out, bits, int_bits, reuse_factor=1)"
   ]
  }
 ],
 "metadata": {
  "kernelspec": {
   "display_name": "hls4ml-ori",
   "language": "python",
   "name": "python3"
  },
  "language_info": {
   "codemirror_mode": {
    "name": "ipython",
    "version": 3
   },
   "file_extension": ".py",
   "mimetype": "text/x-python",
   "name": "python",
   "nbconvert_exporter": "python",
   "pygments_lexer": "ipython3",
   "version": "3.10.16"
  }
 },
 "nbformat": 4,
 "nbformat_minor": 2
}
